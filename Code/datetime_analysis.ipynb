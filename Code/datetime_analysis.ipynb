{
 "cells": [
  {
   "cell_type": "code",
   "execution_count": 1,
   "metadata": {},
   "outputs": [],
   "source": [
    "# Imports\n",
    "import pandas as pd\n",
    "import requests\n",
    "from datetime import datetime\n",
    "import matplotlib.pyplot as plt"
   ]
  },
  {
   "cell_type": "code",
   "execution_count": 2,
   "metadata": {},
   "outputs": [],
   "source": [
    "# create a dataframe from the csv file\n",
    "filePath = '../Resources/Montgomery_Crash_Data.csv'\n",
    "df = pd.read_csv(filePath)"
   ]
  },
  {
   "cell_type": "code",
   "execution_count": 3,
   "metadata": {},
   "outputs": [
    {
     "name": "stdout",
     "output_type": "stream",
     "text": [
      "<class 'pandas.core.frame.DataFrame'>\n",
      "RangeIndex: 101138 entries, 0 to 101137\n",
      "Data columns (total 13 columns):\n",
      " #   Column             Non-Null Count   Dtype  \n",
      "---  ------             --------------   -----  \n",
      " 0   Report Number      101138 non-null  object \n",
      " 1   Crash Date/Time    101138 non-null  object \n",
      " 2   Weather            101138 non-null  object \n",
      " 3   Surface Condition  89062 non-null   object \n",
      " 4   Injury Severity    101138 non-null  object \n",
      " 5   Vehicle ID         101138 non-null  object \n",
      " 6   Vehicle Year       101138 non-null  int64  \n",
      " 7   Vehicle Make       101132 non-null  object \n",
      " 8   Vehicle Model      101113 non-null  object \n",
      " 9   Latitude           101138 non-null  float64\n",
      " 10  Longitude          101138 non-null  float64\n",
      " 11  ACRS Report Type   101138 non-null  object \n",
      " 12  geometry           101138 non-null  object \n",
      "dtypes: float64(2), int64(1), object(10)\n",
      "memory usage: 10.0+ MB\n"
     ]
    }
   ],
   "source": [
    "# print the info of the dataframe\n",
    "df.columns\n",
    "df.info()"
   ]
  },
  {
   "cell_type": "code",
   "execution_count": 4,
   "metadata": {},
   "outputs": [
    {
     "data": {
      "text/html": [
       "<div>\n",
       "<style scoped>\n",
       "    .dataframe tbody tr th:only-of-type {\n",
       "        vertical-align: middle;\n",
       "    }\n",
       "\n",
       "    .dataframe tbody tr th {\n",
       "        vertical-align: top;\n",
       "    }\n",
       "\n",
       "    .dataframe thead th {\n",
       "        text-align: right;\n",
       "    }\n",
       "</style>\n",
       "<table border=\"1\" class=\"dataframe\">\n",
       "  <thead>\n",
       "    <tr style=\"text-align: right;\">\n",
       "      <th></th>\n",
       "      <th>Crash Date/Time</th>\n",
       "      <th>Injury Severity</th>\n",
       "    </tr>\n",
       "  </thead>\n",
       "  <tbody>\n",
       "    <tr>\n",
       "      <th>101133</th>\n",
       "      <td>2024-05-06 15:20:00</td>\n",
       "      <td>SUSPECTED SERIOUS INJURY</td>\n",
       "    </tr>\n",
       "    <tr>\n",
       "      <th>101134</th>\n",
       "      <td>2019-09-05 18:07:00</td>\n",
       "      <td>NO APPARENT INJURY</td>\n",
       "    </tr>\n",
       "    <tr>\n",
       "      <th>101135</th>\n",
       "      <td>2017-05-05 16:03:00</td>\n",
       "      <td>NO APPARENT INJURY</td>\n",
       "    </tr>\n",
       "    <tr>\n",
       "      <th>101136</th>\n",
       "      <td>2015-12-03 02:37:00</td>\n",
       "      <td>NO APPARENT INJURY</td>\n",
       "    </tr>\n",
       "    <tr>\n",
       "      <th>101137</th>\n",
       "      <td>2021-08-22 16:41:00</td>\n",
       "      <td>NO APPARENT INJURY</td>\n",
       "    </tr>\n",
       "  </tbody>\n",
       "</table>\n",
       "</div>"
      ],
      "text/plain": [
       "            Crash Date/Time           Injury Severity\n",
       "101133  2024-05-06 15:20:00  SUSPECTED SERIOUS INJURY\n",
       "101134  2019-09-05 18:07:00        NO APPARENT INJURY\n",
       "101135  2017-05-05 16:03:00        NO APPARENT INJURY\n",
       "101136  2015-12-03 02:37:00        NO APPARENT INJURY\n",
       "101137  2021-08-22 16:41:00        NO APPARENT INJURY"
      ]
     },
     "execution_count": 4,
     "metadata": {},
     "output_type": "execute_result"
    }
   ],
   "source": [
    "# create a new dataframe with only the columns 'Crash Date/Time' and 'Injury Severity'\n",
    "df_dateTimeSeverity = df[['Crash Date/Time', 'Injury Severity']]\n",
    "df_dateTimeSeverity.head()\n",
    "df_dateTimeSeverity.tail()"
   ]
  },
  {
   "cell_type": "code",
   "execution_count": 5,
   "metadata": {},
   "outputs": [
    {
     "data": {
      "text/html": [
       "<div>\n",
       "<style scoped>\n",
       "    .dataframe tbody tr th:only-of-type {\n",
       "        vertical-align: middle;\n",
       "    }\n",
       "\n",
       "    .dataframe tbody tr th {\n",
       "        vertical-align: top;\n",
       "    }\n",
       "\n",
       "    .dataframe thead th {\n",
       "        text-align: right;\n",
       "    }\n",
       "</style>\n",
       "<table border=\"1\" class=\"dataframe\">\n",
       "  <thead>\n",
       "    <tr style=\"text-align: right;\">\n",
       "      <th></th>\n",
       "      <th>Injury Severity</th>\n",
       "    </tr>\n",
       "    <tr>\n",
       "      <th>Crash Date/Time</th>\n",
       "      <th></th>\n",
       "    </tr>\n",
       "  </thead>\n",
       "  <tbody>\n",
       "    <tr>\n",
       "      <th>2021-04-04 12:00:00</th>\n",
       "      <td>NO APPARENT INJURY</td>\n",
       "    </tr>\n",
       "    <tr>\n",
       "      <th>2023-12-04 21:37:00</th>\n",
       "      <td>SUSPECTED MINOR INJURY</td>\n",
       "    </tr>\n",
       "    <tr>\n",
       "      <th>2024-07-17 21:27:00</th>\n",
       "      <td>SUSPECTED MINOR INJURY</td>\n",
       "    </tr>\n",
       "    <tr>\n",
       "      <th>2016-06-21 09:49:00</th>\n",
       "      <td>NO APPARENT INJURY</td>\n",
       "    </tr>\n",
       "    <tr>\n",
       "      <th>2016-12-05 06:55:00</th>\n",
       "      <td>SUSPECTED MINOR INJURY</td>\n",
       "    </tr>\n",
       "  </tbody>\n",
       "</table>\n",
       "</div>"
      ],
      "text/plain": [
       "                            Injury Severity\n",
       "Crash Date/Time                            \n",
       "2021-04-04 12:00:00      NO APPARENT INJURY\n",
       "2023-12-04 21:37:00  SUSPECTED MINOR INJURY\n",
       "2024-07-17 21:27:00  SUSPECTED MINOR INJURY\n",
       "2016-06-21 09:49:00      NO APPARENT INJURY\n",
       "2016-12-05 06:55:00  SUSPECTED MINOR INJURY"
      ]
     },
     "metadata": {},
     "output_type": "display_data"
    },
    {
     "data": {
      "text/html": [
       "<div>\n",
       "<style scoped>\n",
       "    .dataframe tbody tr th:only-of-type {\n",
       "        vertical-align: middle;\n",
       "    }\n",
       "\n",
       "    .dataframe tbody tr th {\n",
       "        vertical-align: top;\n",
       "    }\n",
       "\n",
       "    .dataframe thead th {\n",
       "        text-align: right;\n",
       "    }\n",
       "</style>\n",
       "<table border=\"1\" class=\"dataframe\">\n",
       "  <thead>\n",
       "    <tr style=\"text-align: right;\">\n",
       "      <th></th>\n",
       "      <th>Injury Severity</th>\n",
       "    </tr>\n",
       "    <tr>\n",
       "      <th>Crash Date/Time</th>\n",
       "      <th></th>\n",
       "    </tr>\n",
       "  </thead>\n",
       "  <tbody>\n",
       "    <tr>\n",
       "      <th>2024-05-06 15:20:00</th>\n",
       "      <td>SUSPECTED SERIOUS INJURY</td>\n",
       "    </tr>\n",
       "    <tr>\n",
       "      <th>2019-09-05 18:07:00</th>\n",
       "      <td>NO APPARENT INJURY</td>\n",
       "    </tr>\n",
       "    <tr>\n",
       "      <th>2017-05-05 16:03:00</th>\n",
       "      <td>NO APPARENT INJURY</td>\n",
       "    </tr>\n",
       "    <tr>\n",
       "      <th>2015-12-03 02:37:00</th>\n",
       "      <td>NO APPARENT INJURY</td>\n",
       "    </tr>\n",
       "    <tr>\n",
       "      <th>2021-08-22 16:41:00</th>\n",
       "      <td>NO APPARENT INJURY</td>\n",
       "    </tr>\n",
       "  </tbody>\n",
       "</table>\n",
       "</div>"
      ],
      "text/plain": [
       "                              Injury Severity\n",
       "Crash Date/Time                              \n",
       "2024-05-06 15:20:00  SUSPECTED SERIOUS INJURY\n",
       "2019-09-05 18:07:00        NO APPARENT INJURY\n",
       "2017-05-05 16:03:00        NO APPARENT INJURY\n",
       "2015-12-03 02:37:00        NO APPARENT INJURY\n",
       "2021-08-22 16:41:00        NO APPARENT INJURY"
      ]
     },
     "metadata": {},
     "output_type": "display_data"
    }
   ],
   "source": [
    "# set the index of the new dataframe to 'Crash Date/Time' and convert the index to datetime\n",
    "df_dateTimeSeverity.set_index('Crash Date/Time', inplace=True)\n",
    "df_dateTimeSeverity.index = pd.to_datetime(df_dateTimeSeverity.index)\n",
    "display(df_dateTimeSeverity.head())\n",
    "display(df_dateTimeSeverity.tail())"
   ]
  },
  {
   "cell_type": "code",
   "execution_count": 6,
   "metadata": {},
   "outputs": [
    {
     "data": {
      "text/plain": [
       "Injury Severity\n",
       "NO APPARENT INJURY          83333\n",
       "SUSPECTED MINOR INJURY      16745\n",
       "SUSPECTED SERIOUS INJURY      931\n",
       "FATAL INJURY                  129\n",
       "Name: count, dtype: int64"
      ]
     },
     "metadata": {},
     "output_type": "display_data"
    }
   ],
   "source": [
    "# Display the count of each 'Injury Severity' value\n",
    "count = df_dateTimeSeverity[\"Injury Severity\"].value_counts()\n",
    "display(count)"
   ]
  },
  {
   "cell_type": "code",
   "execution_count": 7,
   "metadata": {},
   "outputs": [
    {
     "name": "stdout",
     "output_type": "stream",
     "text": [
      "The unique_severity colums are as follows                               Injury Severity\n",
      "Crash Date/Time                              \n",
      "2021-04-04 12:00:00        No apparent injury\n",
      "2023-12-04 21:37:00    Suspected minor injury\n",
      "2024-07-17 21:27:00    Suspected minor injury\n",
      "2016-06-21 09:49:00        No apparent injury\n",
      "2016-12-05 06:55:00    Suspected minor injury\n",
      "...                                       ...\n",
      "2024-05-06 15:20:00  Suspected serious injury\n",
      "2019-09-05 18:07:00        No apparent injury\n",
      "2017-05-05 16:03:00        No apparent injury\n",
      "2015-12-03 02:37:00        No apparent injury\n",
      "2021-08-22 16:41:00        No apparent injury\n",
      "\n",
      "[101138 rows x 1 columns]\n"
     ]
    }
   ],
   "source": [
    "# Change the 'Injury Severity' column to title case\n",
    "df_dateTimeSeverity = df_dateTimeSeverity.map(lambda x: x.capitalize() if isinstance(x, str) else x)\n",
    "unique_severity = df_dateTimeSeverity['Injury Severity'].unique()\n",
    "print(f\"The unique_severity colums are as follows {df_dateTimeSeverity}\")"
   ]
  },
  {
   "cell_type": "code",
   "execution_count": 8,
   "metadata": {},
   "outputs": [
    {
     "name": "stdout",
     "output_type": "stream",
     "text": [
      "The total number of accidents is 101138\n"
     ]
    }
   ],
   "source": [
    "# Display the shape of df_dateTimeSeverity\n",
    "count = df_dateTimeSeverity.shape[0]\n",
    "print(f\"The total number of accidents is {count}\")"
   ]
  },
  {
   "cell_type": "code",
   "execution_count": 9,
   "metadata": {},
   "outputs": [
    {
     "data": {
      "text/html": [
       "<div>\n",
       "<style scoped>\n",
       "    .dataframe tbody tr th:only-of-type {\n",
       "        vertical-align: middle;\n",
       "    }\n",
       "\n",
       "    .dataframe tbody tr th {\n",
       "        vertical-align: top;\n",
       "    }\n",
       "\n",
       "    .dataframe thead th {\n",
       "        text-align: right;\n",
       "    }\n",
       "</style>\n",
       "<table border=\"1\" class=\"dataframe\">\n",
       "  <thead>\n",
       "    <tr style=\"text-align: right;\">\n",
       "      <th></th>\n",
       "      <th>Injury Severity</th>\n",
       "    </tr>\n",
       "    <tr>\n",
       "      <th>Crash Date/Time</th>\n",
       "      <th></th>\n",
       "    </tr>\n",
       "  </thead>\n",
       "  <tbody>\n",
       "    <tr>\n",
       "      <th>2015-01-01 00:30:00</th>\n",
       "      <td>No apparent injury</td>\n",
       "    </tr>\n",
       "    <tr>\n",
       "      <th>2015-01-01 01:10:00</th>\n",
       "      <td>No apparent injury</td>\n",
       "    </tr>\n",
       "    <tr>\n",
       "      <th>2015-01-01 01:14:00</th>\n",
       "      <td>No apparent injury</td>\n",
       "    </tr>\n",
       "    <tr>\n",
       "      <th>2015-01-01 01:26:00</th>\n",
       "      <td>No apparent injury</td>\n",
       "    </tr>\n",
       "    <tr>\n",
       "      <th>2015-01-01 02:00:00</th>\n",
       "      <td>No apparent injury</td>\n",
       "    </tr>\n",
       "  </tbody>\n",
       "</table>\n",
       "</div>"
      ],
      "text/plain": [
       "                        Injury Severity\n",
       "Crash Date/Time                        \n",
       "2015-01-01 00:30:00  No apparent injury\n",
       "2015-01-01 01:10:00  No apparent injury\n",
       "2015-01-01 01:14:00  No apparent injury\n",
       "2015-01-01 01:26:00  No apparent injury\n",
       "2015-01-01 02:00:00  No apparent injury"
      ]
     },
     "metadata": {},
     "output_type": "display_data"
    },
    {
     "data": {
      "text/html": [
       "<div>\n",
       "<style scoped>\n",
       "    .dataframe tbody tr th:only-of-type {\n",
       "        vertical-align: middle;\n",
       "    }\n",
       "\n",
       "    .dataframe tbody tr th {\n",
       "        vertical-align: top;\n",
       "    }\n",
       "\n",
       "    .dataframe thead th {\n",
       "        text-align: right;\n",
       "    }\n",
       "</style>\n",
       "<table border=\"1\" class=\"dataframe\">\n",
       "  <thead>\n",
       "    <tr style=\"text-align: right;\">\n",
       "      <th></th>\n",
       "      <th>Injury Severity</th>\n",
       "    </tr>\n",
       "    <tr>\n",
       "      <th>Crash Date/Time</th>\n",
       "      <th></th>\n",
       "    </tr>\n",
       "  </thead>\n",
       "  <tbody>\n",
       "    <tr>\n",
       "      <th>2024-10-02 15:13:00</th>\n",
       "      <td>No apparent injury</td>\n",
       "    </tr>\n",
       "    <tr>\n",
       "      <th>2024-10-02 15:14:00</th>\n",
       "      <td>No apparent injury</td>\n",
       "    </tr>\n",
       "    <tr>\n",
       "      <th>2024-10-02 17:47:00</th>\n",
       "      <td>No apparent injury</td>\n",
       "    </tr>\n",
       "    <tr>\n",
       "      <th>2024-10-02 19:13:00</th>\n",
       "      <td>No apparent injury</td>\n",
       "    </tr>\n",
       "    <tr>\n",
       "      <th>2024-10-02 19:15:00</th>\n",
       "      <td>No apparent injury</td>\n",
       "    </tr>\n",
       "  </tbody>\n",
       "</table>\n",
       "</div>"
      ],
      "text/plain": [
       "                        Injury Severity\n",
       "Crash Date/Time                        \n",
       "2024-10-02 15:13:00  No apparent injury\n",
       "2024-10-02 15:14:00  No apparent injury\n",
       "2024-10-02 17:47:00  No apparent injury\n",
       "2024-10-02 19:13:00  No apparent injury\n",
       "2024-10-02 19:15:00  No apparent injury"
      ]
     },
     "metadata": {},
     "output_type": "display_data"
    }
   ],
   "source": [
    "# Sort be date and time\n",
    "df_dateTimeSeverity = df_dateTimeSeverity.sort_values(by='Crash Date/Time')\n",
    "display(df_dateTimeSeverity.head())\n",
    "display(df_dateTimeSeverity.tail())"
   ]
  },
  {
   "cell_type": "code",
   "execution_count": 10,
   "metadata": {},
   "outputs": [
    {
     "data": {
      "image/png": "[encoded data removed]",
      "text/plain": [
       "<Figure size 640x480 with 1 Axes>"
      ]
     },
     "metadata": {},
     "output_type": "display_data"
    }
   ],
   "source": [
    "df_dateTimeSeverity['Injury Severity'].value_counts().plot(kind='bar',\n",
    "                                                        color='blue',\n",
    "                                                        alpha=0.7, \n",
    "                                                        rot=45,\n",
    "                                                        title='Injury Severity Count',\n",
    "                                                        xlabel='Injury Severity',\n",
    "                                                        ylabel='Number of accidents')\n",
    "plt.tight_layout()\n",
    "plt.show()\n"
   ]
  },
  {
   "cell_type": "markdown",
   "metadata": {},
   "source": [
    "Data distribution of Injury Severity count suggests that most of the accidents are with less serious or no apparent injuries. However, we will need to have another look at each data set filtered by injury severity."
   ]
  },
  {
   "cell_type": "code",
   "execution_count": 11,
   "metadata": {},
   "outputs": [
    {
     "data": {
      "text/html": [
       "<div>\n",
       "<style scoped>\n",
       "    .dataframe tbody tr th:only-of-type {\n",
       "        vertical-align: middle;\n",
       "    }\n",
       "\n",
       "    .dataframe tbody tr th {\n",
       "        vertical-align: top;\n",
       "    }\n",
       "\n",
       "    .dataframe thead th {\n",
       "        text-align: right;\n",
       "    }\n",
       "</style>\n",
       "<table border=\"1\" class=\"dataframe\">\n",
       "  <thead>\n",
       "    <tr style=\"text-align: right;\">\n",
       "      <th></th>\n",
       "      <th>Injury Severity</th>\n",
       "    </tr>\n",
       "    <tr>\n",
       "      <th>Crash Date/Time</th>\n",
       "      <th></th>\n",
       "    </tr>\n",
       "  </thead>\n",
       "  <tbody>\n",
       "    <tr>\n",
       "      <th>2015-01-01 00:30:00</th>\n",
       "      <td>No apparent injury</td>\n",
       "    </tr>\n",
       "    <tr>\n",
       "      <th>2015-01-01 01:10:00</th>\n",
       "      <td>No apparent injury</td>\n",
       "    </tr>\n",
       "    <tr>\n",
       "      <th>2015-01-01 01:14:00</th>\n",
       "      <td>No apparent injury</td>\n",
       "    </tr>\n",
       "    <tr>\n",
       "      <th>2015-01-01 01:26:00</th>\n",
       "      <td>No apparent injury</td>\n",
       "    </tr>\n",
       "    <tr>\n",
       "      <th>2015-01-01 02:00:00</th>\n",
       "      <td>No apparent injury</td>\n",
       "    </tr>\n",
       "  </tbody>\n",
       "</table>\n",
       "</div>"
      ],
      "text/plain": [
       "                        Injury Severity\n",
       "Crash Date/Time                        \n",
       "2015-01-01 00:30:00  No apparent injury\n",
       "2015-01-01 01:10:00  No apparent injury\n",
       "2015-01-01 01:14:00  No apparent injury\n",
       "2015-01-01 01:26:00  No apparent injury\n",
       "2015-01-01 02:00:00  No apparent injury"
      ]
     },
     "metadata": {},
     "output_type": "display_data"
    },
    {
     "data": {
      "text/html": [
       "<div>\n",
       "<style scoped>\n",
       "    .dataframe tbody tr th:only-of-type {\n",
       "        vertical-align: middle;\n",
       "    }\n",
       "\n",
       "    .dataframe tbody tr th {\n",
       "        vertical-align: top;\n",
       "    }\n",
       "\n",
       "    .dataframe thead th {\n",
       "        text-align: right;\n",
       "    }\n",
       "</style>\n",
       "<table border=\"1\" class=\"dataframe\">\n",
       "  <thead>\n",
       "    <tr style=\"text-align: right;\">\n",
       "      <th></th>\n",
       "      <th>Injury Severity</th>\n",
       "    </tr>\n",
       "    <tr>\n",
       "      <th>Crash Date/Time</th>\n",
       "      <th></th>\n",
       "    </tr>\n",
       "  </thead>\n",
       "  <tbody>\n",
       "    <tr>\n",
       "      <th>2015-01-01 02:33:00</th>\n",
       "      <td>Suspected minor injury</td>\n",
       "    </tr>\n",
       "    <tr>\n",
       "      <th>2015-01-01 15:18:00</th>\n",
       "      <td>Suspected minor injury</td>\n",
       "    </tr>\n",
       "    <tr>\n",
       "      <th>2015-01-01 20:54:00</th>\n",
       "      <td>Suspected minor injury</td>\n",
       "    </tr>\n",
       "    <tr>\n",
       "      <th>2015-01-02 12:06:00</th>\n",
       "      <td>Suspected minor injury</td>\n",
       "    </tr>\n",
       "    <tr>\n",
       "      <th>2015-01-02 12:24:00</th>\n",
       "      <td>Suspected minor injury</td>\n",
       "    </tr>\n",
       "  </tbody>\n",
       "</table>\n",
       "</div>"
      ],
      "text/plain": [
       "                            Injury Severity\n",
       "Crash Date/Time                            \n",
       "2015-01-01 02:33:00  Suspected minor injury\n",
       "2015-01-01 15:18:00  Suspected minor injury\n",
       "2015-01-01 20:54:00  Suspected minor injury\n",
       "2015-01-02 12:06:00  Suspected minor injury\n",
       "2015-01-02 12:24:00  Suspected minor injury"
      ]
     },
     "metadata": {},
     "output_type": "display_data"
    },
    {
     "data": {
      "text/html": [
       "<div>\n",
       "<style scoped>\n",
       "    .dataframe tbody tr th:only-of-type {\n",
       "        vertical-align: middle;\n",
       "    }\n",
       "\n",
       "    .dataframe tbody tr th {\n",
       "        vertical-align: top;\n",
       "    }\n",
       "\n",
       "    .dataframe thead th {\n",
       "        text-align: right;\n",
       "    }\n",
       "</style>\n",
       "<table border=\"1\" class=\"dataframe\">\n",
       "  <thead>\n",
       "    <tr style=\"text-align: right;\">\n",
       "      <th></th>\n",
       "      <th>Injury Severity</th>\n",
       "    </tr>\n",
       "    <tr>\n",
       "      <th>Crash Date/Time</th>\n",
       "      <th></th>\n",
       "    </tr>\n",
       "  </thead>\n",
       "  <tbody>\n",
       "    <tr>\n",
       "      <th>2015-01-03 08:38:00</th>\n",
       "      <td>Suspected serious injury</td>\n",
       "    </tr>\n",
       "    <tr>\n",
       "      <th>2015-01-05 11:33:00</th>\n",
       "      <td>Suspected serious injury</td>\n",
       "    </tr>\n",
       "    <tr>\n",
       "      <th>2015-01-10 17:26:00</th>\n",
       "      <td>Suspected serious injury</td>\n",
       "    </tr>\n",
       "    <tr>\n",
       "      <th>2015-01-15 11:31:00</th>\n",
       "      <td>Suspected serious injury</td>\n",
       "    </tr>\n",
       "    <tr>\n",
       "      <th>2015-01-20 19:07:00</th>\n",
       "      <td>Suspected serious injury</td>\n",
       "    </tr>\n",
       "  </tbody>\n",
       "</table>\n",
       "</div>"
      ],
      "text/plain": [
       "                              Injury Severity\n",
       "Crash Date/Time                              \n",
       "2015-01-03 08:38:00  Suspected serious injury\n",
       "2015-01-05 11:33:00  Suspected serious injury\n",
       "2015-01-10 17:26:00  Suspected serious injury\n",
       "2015-01-15 11:31:00  Suspected serious injury\n",
       "2015-01-20 19:07:00  Suspected serious injury"
      ]
     },
     "metadata": {},
     "output_type": "display_data"
    },
    {
     "data": {
      "text/html": [
       "<div>\n",
       "<style scoped>\n",
       "    .dataframe tbody tr th:only-of-type {\n",
       "        vertical-align: middle;\n",
       "    }\n",
       "\n",
       "    .dataframe tbody tr th {\n",
       "        vertical-align: top;\n",
       "    }\n",
       "\n",
       "    .dataframe thead th {\n",
       "        text-align: right;\n",
       "    }\n",
       "</style>\n",
       "<table border=\"1\" class=\"dataframe\">\n",
       "  <thead>\n",
       "    <tr style=\"text-align: right;\">\n",
       "      <th></th>\n",
       "      <th>Injury Severity</th>\n",
       "    </tr>\n",
       "    <tr>\n",
       "      <th>Crash Date/Time</th>\n",
       "      <th></th>\n",
       "    </tr>\n",
       "  </thead>\n",
       "  <tbody>\n",
       "    <tr>\n",
       "      <th>2015-04-06 16:57:00</th>\n",
       "      <td>Fatal injury</td>\n",
       "    </tr>\n",
       "    <tr>\n",
       "      <th>2015-05-31 15:05:00</th>\n",
       "      <td>Fatal injury</td>\n",
       "    </tr>\n",
       "    <tr>\n",
       "      <th>2015-06-23 20:26:00</th>\n",
       "      <td>Fatal injury</td>\n",
       "    </tr>\n",
       "    <tr>\n",
       "      <th>2015-07-05 05:07:00</th>\n",
       "      <td>Fatal injury</td>\n",
       "    </tr>\n",
       "    <tr>\n",
       "      <th>2015-07-28 21:24:00</th>\n",
       "      <td>Fatal injury</td>\n",
       "    </tr>\n",
       "  </tbody>\n",
       "</table>\n",
       "</div>"
      ],
      "text/plain": [
       "                    Injury Severity\n",
       "Crash Date/Time                    \n",
       "2015-04-06 16:57:00    Fatal injury\n",
       "2015-05-31 15:05:00    Fatal injury\n",
       "2015-06-23 20:26:00    Fatal injury\n",
       "2015-07-05 05:07:00    Fatal injury\n",
       "2015-07-28 21:24:00    Fatal injury"
      ]
     },
     "metadata": {},
     "output_type": "display_data"
    }
   ],
   "source": [
    "# create a dataframe for each injury severity\n",
    "df_no_apparent_injury = df_dateTimeSeverity[df_dateTimeSeverity['Injury Severity'] == 'No apparent injury']\n",
    "df_suspected_minor_injury = df_dateTimeSeverity[df_dateTimeSeverity['Injury Severity'] == 'Suspected minor injury']\n",
    "df_suspected_serious_injury = df_dateTimeSeverity[df_dateTimeSeverity['Injury Severity'] == 'Suspected serious injury']\n",
    "df_fatal_injury = df_dateTimeSeverity[df_dateTimeSeverity['Injury Severity'] == 'Fatal injury']\n",
    "\n",
    "# make a list of the severity dataframes\n",
    "injury_severity_list = [\n",
    "    df_no_apparent_injury,\n",
    "    df_suspected_minor_injury,\n",
    "    df_suspected_serious_injury,\n",
    "    df_fatal_injury\n",
    "]\n",
    "\n",
    "# display the first 5 rows of each severity dataframe\n",
    "for i in injury_severity_list:\n",
    "    display(i.head())"
   ]
  },
  {
   "cell_type": "code",
   "execution_count": 12,
   "metadata": {},
   "outputs": [
    {
     "data": {
      "text/plain": [
       "'Total number of No apparent injury : 83333'"
      ]
     },
     "metadata": {},
     "output_type": "display_data"
    },
    {
     "data": {
      "text/plain": [
       "'Total number of Suspected minor injury : 16745'"
      ]
     },
     "metadata": {},
     "output_type": "display_data"
    },
    {
     "data": {
      "text/plain": [
       "'Total number of Suspected serious injury : 931'"
      ]
     },
     "metadata": {},
     "output_type": "display_data"
    },
    {
     "data": {
      "text/plain": [
       "'Total number of Fatal injury : 129'"
      ]
     },
     "metadata": {},
     "output_type": "display_data"
    }
   ],
   "source": [
    "# Display the total number of accidents for each severity\n",
    "for i in injury_severity_list:    \n",
    "    display(f\"Total number of {i['Injury Severity'].iloc[0]} : {len(i)}\")"
   ]
  },
  {
   "cell_type": "code",
   "execution_count": 13,
   "metadata": {},
   "outputs": [
    {
     "data": {
      "text/html": [
       "<div>\n",
       "<style scoped>\n",
       "    .dataframe tbody tr th:only-of-type {\n",
       "        vertical-align: middle;\n",
       "    }\n",
       "\n",
       "    .dataframe tbody tr th {\n",
       "        vertical-align: top;\n",
       "    }\n",
       "\n",
       "    .dataframe thead th {\n",
       "        text-align: right;\n",
       "    }\n",
       "</style>\n",
       "<table border=\"1\" class=\"dataframe\">\n",
       "  <thead>\n",
       "    <tr style=\"text-align: right;\">\n",
       "      <th></th>\n",
       "      <th>Injury Severity</th>\n",
       "      <th>Time of Day</th>\n",
       "      <th>HourOfAccident</th>\n",
       "    </tr>\n",
       "    <tr>\n",
       "      <th>Crash Date/Time</th>\n",
       "      <th></th>\n",
       "      <th></th>\n",
       "      <th></th>\n",
       "    </tr>\n",
       "  </thead>\n",
       "  <tbody>\n",
       "    <tr>\n",
       "      <th>2015-01-01 00:30:00</th>\n",
       "      <td>No apparent injury</td>\n",
       "      <td>00:30:00</td>\n",
       "      <td>0</td>\n",
       "    </tr>\n",
       "    <tr>\n",
       "      <th>2015-01-01 01:10:00</th>\n",
       "      <td>No apparent injury</td>\n",
       "      <td>01:10:00</td>\n",
       "      <td>1</td>\n",
       "    </tr>\n",
       "    <tr>\n",
       "      <th>2015-01-01 01:14:00</th>\n",
       "      <td>No apparent injury</td>\n",
       "      <td>01:14:00</td>\n",
       "      <td>1</td>\n",
       "    </tr>\n",
       "    <tr>\n",
       "      <th>2015-01-01 01:26:00</th>\n",
       "      <td>No apparent injury</td>\n",
       "      <td>01:26:00</td>\n",
       "      <td>1</td>\n",
       "    </tr>\n",
       "    <tr>\n",
       "      <th>2015-01-01 02:00:00</th>\n",
       "      <td>No apparent injury</td>\n",
       "      <td>02:00:00</td>\n",
       "      <td>2</td>\n",
       "    </tr>\n",
       "  </tbody>\n",
       "</table>\n",
       "</div>"
      ],
      "text/plain": [
       "                        Injury Severity Time of Day  HourOfAccident\n",
       "Crash Date/Time                                                    \n",
       "2015-01-01 00:30:00  No apparent injury    00:30:00               0\n",
       "2015-01-01 01:10:00  No apparent injury    01:10:00               1\n",
       "2015-01-01 01:14:00  No apparent injury    01:14:00               1\n",
       "2015-01-01 01:26:00  No apparent injury    01:26:00               1\n",
       "2015-01-01 02:00:00  No apparent injury    02:00:00               2"
      ]
     },
     "metadata": {},
     "output_type": "display_data"
    },
    {
     "data": {
      "text/html": [
       "<div>\n",
       "<style scoped>\n",
       "    .dataframe tbody tr th:only-of-type {\n",
       "        vertical-align: middle;\n",
       "    }\n",
       "\n",
       "    .dataframe tbody tr th {\n",
       "        vertical-align: top;\n",
       "    }\n",
       "\n",
       "    .dataframe thead th {\n",
       "        text-align: right;\n",
       "    }\n",
       "</style>\n",
       "<table border=\"1\" class=\"dataframe\">\n",
       "  <thead>\n",
       "    <tr style=\"text-align: right;\">\n",
       "      <th></th>\n",
       "      <th>Injury Severity</th>\n",
       "      <th>Time of Day</th>\n",
       "      <th>HourOfAccident</th>\n",
       "    </tr>\n",
       "    <tr>\n",
       "      <th>Crash Date/Time</th>\n",
       "      <th></th>\n",
       "      <th></th>\n",
       "      <th></th>\n",
       "    </tr>\n",
       "  </thead>\n",
       "  <tbody>\n",
       "    <tr>\n",
       "      <th>2015-01-01 02:33:00</th>\n",
       "      <td>Suspected minor injury</td>\n",
       "      <td>02:33:00</td>\n",
       "      <td>2</td>\n",
       "    </tr>\n",
       "    <tr>\n",
       "      <th>2015-01-01 15:18:00</th>\n",
       "      <td>Suspected minor injury</td>\n",
       "      <td>15:18:00</td>\n",
       "      <td>15</td>\n",
       "    </tr>\n",
       "    <tr>\n",
       "      <th>2015-01-01 20:54:00</th>\n",
       "      <td>Suspected minor injury</td>\n",
       "      <td>20:54:00</td>\n",
       "      <td>20</td>\n",
       "    </tr>\n",
       "    <tr>\n",
       "      <th>2015-01-02 12:06:00</th>\n",
       "      <td>Suspected minor injury</td>\n",
       "      <td>12:06:00</td>\n",
       "      <td>12</td>\n",
       "    </tr>\n",
       "    <tr>\n",
       "      <th>2015-01-02 12:24:00</th>\n",
       "      <td>Suspected minor injury</td>\n",
       "      <td>12:24:00</td>\n",
       "      <td>12</td>\n",
       "    </tr>\n",
       "  </tbody>\n",
       "</table>\n",
       "</div>"
      ],
      "text/plain": [
       "                            Injury Severity Time of Day  HourOfAccident\n",
       "Crash Date/Time                                                        \n",
       "2015-01-01 02:33:00  Suspected minor injury    02:33:00               2\n",
       "2015-01-01 15:18:00  Suspected minor injury    15:18:00              15\n",
       "2015-01-01 20:54:00  Suspected minor injury    20:54:00              20\n",
       "2015-01-02 12:06:00  Suspected minor injury    12:06:00              12\n",
       "2015-01-02 12:24:00  Suspected minor injury    12:24:00              12"
      ]
     },
     "metadata": {},
     "output_type": "display_data"
    },
    {
     "data": {
      "text/html": [
       "<div>\n",
       "<style scoped>\n",
       "    .dataframe tbody tr th:only-of-type {\n",
       "        vertical-align: middle;\n",
       "    }\n",
       "\n",
       "    .dataframe tbody tr th {\n",
       "        vertical-align: top;\n",
       "    }\n",
       "\n",
       "    .dataframe thead th {\n",
       "        text-align: right;\n",
       "    }\n",
       "</style>\n",
       "<table border=\"1\" class=\"dataframe\">\n",
       "  <thead>\n",
       "    <tr style=\"text-align: right;\">\n",
       "      <th></th>\n",
       "      <th>Injury Severity</th>\n",
       "      <th>Time of Day</th>\n",
       "      <th>HourOfAccident</th>\n",
       "    </tr>\n",
       "    <tr>\n",
       "      <th>Crash Date/Time</th>\n",
       "      <th></th>\n",
       "      <th></th>\n",
       "      <th></th>\n",
       "    </tr>\n",
       "  </thead>\n",
       "  <tbody>\n",
       "    <tr>\n",
       "      <th>2015-01-03 08:38:00</th>\n",
       "      <td>Suspected serious injury</td>\n",
       "      <td>08:38:00</td>\n",
       "      <td>8</td>\n",
       "    </tr>\n",
       "    <tr>\n",
       "      <th>2015-01-05 11:33:00</th>\n",
       "      <td>Suspected serious injury</td>\n",
       "      <td>11:33:00</td>\n",
       "      <td>11</td>\n",
       "    </tr>\n",
       "    <tr>\n",
       "      <th>2015-01-10 17:26:00</th>\n",
       "      <td>Suspected serious injury</td>\n",
       "      <td>17:26:00</td>\n",
       "      <td>17</td>\n",
       "    </tr>\n",
       "    <tr>\n",
       "      <th>2015-01-15 11:31:00</th>\n",
       "      <td>Suspected serious injury</td>\n",
       "      <td>11:31:00</td>\n",
       "      <td>11</td>\n",
       "    </tr>\n",
       "    <tr>\n",
       "      <th>2015-01-20 19:07:00</th>\n",
       "      <td>Suspected serious injury</td>\n",
       "      <td>19:07:00</td>\n",
       "      <td>19</td>\n",
       "    </tr>\n",
       "  </tbody>\n",
       "</table>\n",
       "</div>"
      ],
      "text/plain": [
       "                              Injury Severity Time of Day  HourOfAccident\n",
       "Crash Date/Time                                                          \n",
       "2015-01-03 08:38:00  Suspected serious injury    08:38:00               8\n",
       "2015-01-05 11:33:00  Suspected serious injury    11:33:00              11\n",
       "2015-01-10 17:26:00  Suspected serious injury    17:26:00              17\n",
       "2015-01-15 11:31:00  Suspected serious injury    11:31:00              11\n",
       "2015-01-20 19:07:00  Suspected serious injury    19:07:00              19"
      ]
     },
     "metadata": {},
     "output_type": "display_data"
    },
    {
     "data": {
      "text/html": [
       "<div>\n",
       "<style scoped>\n",
       "    .dataframe tbody tr th:only-of-type {\n",
       "        vertical-align: middle;\n",
       "    }\n",
       "\n",
       "    .dataframe tbody tr th {\n",
       "        vertical-align: top;\n",
       "    }\n",
       "\n",
       "    .dataframe thead th {\n",
       "        text-align: right;\n",
       "    }\n",
       "</style>\n",
       "<table border=\"1\" class=\"dataframe\">\n",
       "  <thead>\n",
       "    <tr style=\"text-align: right;\">\n",
       "      <th></th>\n",
       "      <th>Injury Severity</th>\n",
       "      <th>Time of Day</th>\n",
       "      <th>HourOfAccident</th>\n",
       "    </tr>\n",
       "    <tr>\n",
       "      <th>Crash Date/Time</th>\n",
       "      <th></th>\n",
       "      <th></th>\n",
       "      <th></th>\n",
       "    </tr>\n",
       "  </thead>\n",
       "  <tbody>\n",
       "    <tr>\n",
       "      <th>2015-04-06 16:57:00</th>\n",
       "      <td>Fatal injury</td>\n",
       "      <td>16:57:00</td>\n",
       "      <td>16</td>\n",
       "    </tr>\n",
       "    <tr>\n",
       "      <th>2015-05-31 15:05:00</th>\n",
       "      <td>Fatal injury</td>\n",
       "      <td>15:05:00</td>\n",
       "      <td>15</td>\n",
       "    </tr>\n",
       "    <tr>\n",
       "      <th>2015-06-23 20:26:00</th>\n",
       "      <td>Fatal injury</td>\n",
       "      <td>20:26:00</td>\n",
       "      <td>20</td>\n",
       "    </tr>\n",
       "    <tr>\n",
       "      <th>2015-07-05 05:07:00</th>\n",
       "      <td>Fatal injury</td>\n",
       "      <td>05:07:00</td>\n",
       "      <td>5</td>\n",
       "    </tr>\n",
       "    <tr>\n",
       "      <th>2015-07-28 21:24:00</th>\n",
       "      <td>Fatal injury</td>\n",
       "      <td>21:24:00</td>\n",
       "      <td>21</td>\n",
       "    </tr>\n",
       "  </tbody>\n",
       "</table>\n",
       "</div>"
      ],
      "text/plain": [
       "                    Injury Severity Time of Day  HourOfAccident\n",
       "Crash Date/Time                                                \n",
       "2015-04-06 16:57:00    Fatal injury    16:57:00              16\n",
       "2015-05-31 15:05:00    Fatal injury    15:05:00              15\n",
       "2015-06-23 20:26:00    Fatal injury    20:26:00              20\n",
       "2015-07-05 05:07:00    Fatal injury    05:07:00               5\n",
       "2015-07-28 21:24:00    Fatal injury    21:24:00              21"
      ]
     },
     "metadata": {},
     "output_type": "display_data"
    }
   ],
   "source": [
    "# make a new dataframe with the time of day and hour of accident\n",
    "def makeNewDataFrame(df):\n",
    "    df = df.copy()\n",
    "    df['Time of Day'] = df.index.time\n",
    "    df['HourOfAccident'] = pd.to_datetime(df['Time of Day'], format='%H:%M:%S').dt.hour\n",
    "    return df\n",
    "\n",
    "df_fatal_injury = makeNewDataFrame(df_fatal_injury)\n",
    "df_suspected_serious_injury = makeNewDataFrame(df_suspected_serious_injury)\n",
    "df_suspected_minor_injury = makeNewDataFrame(df_suspected_minor_injury)\n",
    "df_no_apparent_injury = makeNewDataFrame(df_no_apparent_injury)\n",
    "\n",
    "# make a list of the injury dataframes\n",
    "df_injury_list = [df_no_apparent_injury,\n",
    "                df_suspected_minor_injury,\n",
    "                df_suspected_serious_injury,\n",
    "                df_fatal_injury]\n",
    "\n",
    "# display the first 5 rows of each injury dataframe\n",
    "for i in df_injury_list: \n",
    "    display(i.head())"
   ]
  },
  {
   "cell_type": "code",
   "execution_count": 14,
   "metadata": {},
   "outputs": [],
   "source": [
    "# Function to graph the time of day for each injury severity\n",
    "\n",
    "def graph_injury_severity(df):\n",
    "    plt.figure(figsize=(8, 5))\n",
    "    plt.hist(df['HourOfAccident'], bins=24, color='blue', alpha=0.7, rwidth=0.80)\n",
    "    time_labels = [f'{str(i).zfill(2)}:00' for i in range(24)]\n",
    "    plt.title('Time of Day')\n",
    "    plt.grid(axis='y')\n",
    "    plt.title(f'{i[\"Injury Severity\"].iloc[0]} Time of Day')\n",
    "    plt.xlabel('Time of Day')\n",
    "    plt.ylabel('Accident Count')\n",
    "    plt.xticks(range(24), time_labels, rotation=45)\n",
    "    plt.tight_layout()\n",
    "    plt.show()"
   ]
  },
  {
   "cell_type": "code",
   "execution_count": 15,
   "metadata": {},
   "outputs": [
    {
     "data": {
      "image/png": "[encoded data removed]",
      "text/plain": [
       "<Figure size 800x500 with 1 Axes>"
      ]
     },
     "metadata": {},
     "output_type": "display_data"
    },
    {
     "data": {
      "image/png": "[encoded data removed]",
      "text/plain": [
       "<Figure size 800x500 with 1 Axes>"
      ]
     },
     "metadata": {},
     "output_type": "display_data"
    },
    {
     "data": {
      "image/png": "[encoded data removed]",
      "text/plain": [
       "<Figure size 800x500 with 1 Axes>"
      ]
     },
     "metadata": {},
     "output_type": "display_data"
    },
    {
     "data": {
      "image/png": "[encoded data removed]",
      "text/plain": [
       "<Figure size 800x500 with 1 Axes>"
      ]
     },
     "metadata": {},
     "output_type": "display_data"
    }
   ],
   "source": [
    "# Graph the time of day for each injury severity\n",
    "for i in df_injury_list:\n",
    "    graph_injury_severity(i)  \n",
    "\n"
   ]
  },
  {
   "cell_type": "markdown",
   "metadata": {},
   "source": [
    "Analysis of each injury severity based data reveals following findings:\n",
    "- Most of the accidents happens in the evening rush hours (3:00 PM to 6:00 PM). However they are mostly non-fatal\n",
    "- Accidents happing in early morning hour are most fatal ones. However, the distribution of fatal injuries are more balanced as compare to non-fatal or no injuries. This might be because records with fatal injuries are significantly less as compare to the other injury types."
   ]
  },
  {
   "cell_type": "code",
   "execution_count": 16,
   "metadata": {},
   "outputs": [
    {
     "data": {
      "image/png": "[encoded data removed]",
      "text/plain": [
       "<Figure size 800x500 with 1 Axes>"
      ]
     },
     "metadata": {},
     "output_type": "display_data"
    }
   ],
   "source": [
    "# Accients by month\n",
    "df_dateTimeSeverity['Month'] = df_dateTimeSeverity.index.month\n",
    "plt.figure(figsize=(8, 5))\n",
    "plt.hist(df_dateTimeSeverity['Month'], bins=12, color='blue', alpha=0.7, rwidth=0.8)\n",
    "plt.title('Accidents by Month')\n",
    "plt.xlabel('Month')\n",
    "plt.ylabel('Accident Count')\n",
    "plt.xticks(range(1, 13))\n",
    "plt.tight_layout()\n",
    "plt.show()"
   ]
  },
  {
   "cell_type": "markdown",
   "metadata": {},
   "source": [
    "- Histogram of accidents by month suggests that there arent much variability in number of accidents per month."
   ]
  },
  {
   "cell_type": "code",
   "execution_count": 17,
   "metadata": {},
   "outputs": [
    {
     "data": {
      "image/png": "[encoded data removed]",
      "text/plain": [
       "<Figure size 800x500 with 1 Axes>"
      ]
     },
     "metadata": {},
     "output_type": "display_data"
    }
   ],
   "source": [
    "# Plot accidents by year    \n",
    "df_dateTimeSeverity['Year'] = df_dateTimeSeverity.index.year\n",
    "plt.figure(figsize=(8, 5))\n",
    "plt.hist(df_dateTimeSeverity['Year'], bins=10, color='blue', alpha=0.7, rwidth=0.8)\n",
    "plt.title('Accidents by Year')\n",
    "plt.xlabel('Year')\n",
    "plt.ylabel('Accident Count')\n",
    "plt.xticks(range(2015, 2024), rotation=45)\n",
    "plt.tight_layout()\n",
    "plt.show()"
   ]
  },
  {
   "cell_type": "markdown",
   "metadata": {},
   "source": [
    "There is significant reduction in number of accidents during 2020. Possibly because of work-from-home policy adaption by most of the companies amidst COVID-19 pandemic. However, return-to-office movement is bringing the historic trend back."
   ]
  }
 ],
 "metadata": {
  "kernelspec": {
   "display_name": "dev",
   "language": "python",
   "name": "python3"
  },
  "language_info": {
   "codemirror_mode": {
    "name": "ipython",
    "version": 3
   },
   "file_extension": ".py",
   "mimetype": "text/x-python",
   "name": "python",
   "nbconvert_exporter": "python",
   "pygments_lexer": "ipython3",
   "version": "3.10.14"
  }
 },
 "nbformat": 4,
 "nbformat_minor": 2
}
