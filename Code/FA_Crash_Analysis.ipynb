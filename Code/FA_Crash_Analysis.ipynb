{
 "cells": [
  {
   "cell_type": "code",
   "execution_count": null,
   "metadata": {},
   "outputs": [],
   "source": [
    "import pandas as pd\n",
    "import geopandas as gpd\n",
    "import folium\n",
    "from folium import plugins\n",
    "import geodatasets\n",
    "import matplotlib.pyplot as plt\n",
    "import plotly.express as px\n"
   ]
  },
  {
   "cell_type": "code",
   "execution_count": null,
   "metadata": {},
   "outputs": [],
   "source": [
    "# upload collision data\n",
    "crash_df = pd.read_csv('../Resources/Montgomery_Crash_Data.csv', index_col='Crash Date/Time', parse_dates=True)\n",
    "crash_df.head()"
   ]
  },
  {
   "cell_type": "code",
   "execution_count": null,
   "metadata": {},
   "outputs": [],
   "source": [
    "# Create dataframe into a geodataframe\n",
    "montgomery_gdf = gpd.GeoDataFrame(crash_df, geometry=gpd.points_from_xy(crash_df.Longitude, crash_df.Latitude), crs='EPSG:4326').sort_index()\n",
    "montgomery_gdf.head(3)\n"
   ]
  },
  {
   "cell_type": "code",
   "execution_count": null,
   "metadata": {},
   "outputs": [],
   "source": [
    "# Get column information\n",
    "montgomery_gdf.info()"
   ]
  },
  {
   "cell_type": "code",
   "execution_count": null,
   "metadata": {},
   "outputs": [],
   "source": [
    "# upload county Geojson and make it into geodataframe\n",
    "county_gdf = gpd.read_file('../Resources/Montgomery_County.json')\n",
    "county_gdf.head()"
   ]
  },
  {
   "cell_type": "code",
   "execution_count": null,
   "metadata": {},
   "outputs": [],
   "source": [
    "# create background map\n",
    "m = folium.Map(location=[39.1364, -77.1715], tiles=\"Cartodb dark_matter\", zoom_start=11) \n",
    "\n",
    "#create geojson with all county boundaries\n",
    "#add fill color for polygons\n",
    "for _, r in county_gdf.iterrows():\n",
    "    sim_geo = gpd.GeoSeries(r[\"geometry\"]).simplify(tolerance=0.001)\n",
    "    geo_j = sim_geo.to_json()\n",
    "    geo_j = folium.GeoJson(data=geo_j, style_function=lambda x: {\"fillColor\": \"none\"})\n",
    "    folium.Popup(r[\"County\"]).add_to(geo_j)\n",
    "    geo_j.add_to(m)\n",
    "\n",
    "\n",
    "### Paramters to add to the map ####\n",
    "# column = None\n",
    "# value = None\n",
    "# start_year = '2024'\n",
    "\n",
    "column = 'Surface Condition'\n",
    "value = 'ICE'\n",
    "start_year = '2015'\n",
    "\n",
    "# column = 'Weather'\n",
    "# value = 'RAIN'\n",
    "# start_year = '2015'\n",
    "\n",
    "# column = 'Injury Severity' # column of interest\n",
    "# value = 'FATAL INJURY' # choose the value you want overlay on map\n",
    "# start_year = '2015' #chose start year you want to investigate\n",
    "\n",
    "if column:\n",
    "    #filter gdf by year interval and create conditional statement\n",
    "    filtered_data = montgomery_gdf.loc[start_year:'2024']\n",
    "    conditional = filtered_data[column] == value\n",
    "    #create list of point geometries and a heatmap from them\n",
    "    heat_data = [[point.xy[1][0], point.xy[0][0]] for point in filtered_data.loc[conditional].geometry]\n",
    "    plugins.HeatMap(heat_data, min_opacity=.2, radius=20,zoom_start=2).add_to(m)\n",
    "\n",
    "    #create a list dates in string format and attribute them to the points \n",
    "    #created on the map\n",
    "    date_data = [str(date) for date in filtered_data.loc[conditional].index]\n",
    "    for point, date in zip(heat_data, date_data):\n",
    "        folium.CircleMarker(point, radius=.2, fill_color=\"black\", color=\"blue\", popup=folium.Popup(date)).add_to(m)\n",
    "else:\n",
    "    #filter gdf by year interval\n",
    "    filtered_data = montgomery_gdf.loc[start_year:'2024']\n",
    "    #create list of point geometries and a heatmap from them\n",
    "    heat_data = [[point.xy[1][0], point.xy[0][0]] for point in filtered_data.geometry]\n",
    "    plugins.HeatMap(heat_data, min_opacity=.2, radius=20,zoom_start=2).add_to(m)\n",
    "\n",
    "    #create a list dates in string format and attribute them to the points \n",
    "    #created on the map\n",
    "    date_data = [str(date) for date in filtered_data.index]\n",
    "    for point, date in zip(heat_data, date_data):\n",
    "        folium.CircleMarker(point, radius=.2, fill_color=\"black\", color=\"blue\", popup=folium.Popup(date)).add_to(m)\n",
    "\n",
    "#add widget that allows user to turn on and off map layers    \n",
    "folium.LayerControl().add_to(m)\n",
    "\n",
    "m"
   ]
  },
  {
   "cell_type": "code",
   "execution_count": null,
   "metadata": {},
   "outputs": [],
   "source": [
    "# make a list for the weeks of the year\n",
    "weeks = crash_df.index.isocalendar().week.sort_values().unique()\n",
    "\n",
    "# plot the counts for each week\n",
    "plt.bar(weeks, crash_df.index.isocalendar().week.value_counts().sort_index())\n",
    "plt.title('Weekly Crashes')\n",
    "plt.xlabel('Weeks')\n",
    "plt.ylabel('Counts')\n",
    "plt.show()\n",
    "\n",
    "#plot average chrashes for each week\n",
    "weekly_crash_count = crash_df.groupby([crash_df.index.isocalendar().year, crash_df.index.isocalendar().week])['Report Number'].count().reset_index()\n",
    "plt.bar(weeks, weekly_crash_count.groupby('week')['Report Number'].mean().round())\n",
    "plt.title('Weekly Crashes')\n",
    "plt.xlabel('Week')\n",
    "plt.ylabel('Average Crashes')\n",
    "plt.show()"
   ]
  },
  {
   "cell_type": "code",
   "execution_count": null,
   "metadata": {},
   "outputs": [],
   "source": [
    "# make a list for the days of the week\n",
    "days = ['Monday', 'Tuesday', 'Wednesday', 'Thursday', 'Friday', 'Saturday', 'Sunday']  # crash_df.index.isocalendar().day.sort_values().unique()\n",
    "\n",
    "# plot the counts for each day\n",
    "plt.bar(days, crash_df.index.isocalendar().day.value_counts().sort_index())\n",
    "plt.title('Daily Crashes')\n",
    "plt.xlabel('Day')\n",
    "plt.ylabel('Counts')\n",
    "plt.xticks(rotation=45, ha='right', rotation_mode='anchor')\n",
    "plt.show()\n",
    "\n",
    "#plot average crashes for each day\n",
    "daily_crash_count = crash_df.groupby([crash_df.index.isocalendar().year, crash_df.index.isocalendar().week, \n",
    "                                      crash_df.index.isocalendar().day])['Report Number'].count().reset_index()\n",
    "plt.bar(days, daily_crash_count.groupby('day')['Report Number'].mean().round())\n",
    "plt.title('Daily Average Crashes')\n",
    "plt.xlabel('Day')\n",
    "plt.ylabel('Average Crashes')\n",
    "plt.xticks(rotation=45, ha='right', rotation_mode='anchor')\n",
    "plt.show()"
   ]
  },
  {
   "cell_type": "code",
   "execution_count": null,
   "metadata": {},
   "outputs": [],
   "source": [
    "# make a list for the weeks of the year\n",
    "years = crash_df.index.isocalendar().year.sort_values().unique()\n",
    "\n",
    "# plot the counts for each week\n",
    "plt.bar(years, montgomery_gdf.index.isocalendar().year.value_counts().sort_index())\n",
    "plt.grid(linestyle = '-' )\n",
    "plt.title('Yearly Crashes')\n",
    "plt.xlabel('Year')\n",
    "plt.ylabel('Counts')\n",
    "plt.show()"
   ]
  }
 ],
 "metadata": {
  "kernelspec": {
   "display_name": "dev",
   "language": "python",
   "name": "python3"
  },
  "language_info": {
   "codemirror_mode": {
    "name": "ipython",
    "version": 3
   },
   "file_extension": ".py",
   "mimetype": "text/x-python",
   "name": "python",
   "nbconvert_exporter": "python",
   "pygments_lexer": "ipython3",
   "version": "3.10.14"
  }
 },
 "nbformat": 4,
 "nbformat_minor": 2
}
